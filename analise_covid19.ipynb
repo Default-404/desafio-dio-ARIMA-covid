{
 "cells": [
  {
   "cell_type": "code",
   "execution_count": null,
   "metadata": {},
   "outputs": [],
   "source": [
    "import pandas as pd\n",
    "import numpy as np\n",
    "import plotly.express as px\n",
    "import plotly.graph_objects as go\n",
    "import matplotlib.pyplot as plt\n",
    "from statsmodels.tsa.seasonal import seasonal_decompose\n",
    "from pmdarima.arima import auto_arima"
   ]
  },
  {
   "cell_type": "code",
   "execution_count": null,
   "metadata": {},
   "outputs": [],
   "source": [
    "path = \"https://raw.githubusercontent.com/wcota/covid19br/master/cases-brazil-states.csv\""
   ]
  },
  {
   "cell_type": "code",
   "execution_count": null,
   "metadata": {},
   "outputs": [],
   "source": [
    "df = pd.read_csv(path, parse_dates=['date'])"
   ]
  },
  {
   "cell_type": "code",
   "execution_count": null,
   "metadata": {},
   "outputs": [],
   "source": [
    "brazil = df.loc[(df.state == 'TOTAL')]"
   ]
  },
  {
   "cell_type": "code",
   "execution_count": null,
   "metadata": {},
   "outputs": [],
   "source": [
    "brazil_2020 = brazil.loc[\n",
    "  (brazil['date'] >= \"2020-02-25\") & \n",
    "  (brazil['date'] <= \"2020-12-31\")\n",
    "]"
   ]
  },
  {
   "cell_type": "markdown",
   "metadata": {},
   "source": [
    "# Visualização"
   ]
  },
  {
   "cell_type": "markdown",
   "metadata": {},
   "source": [
    "## Casos confirmados em 2020"
   ]
  },
  {
   "cell_type": "code",
   "execution_count": null,
   "metadata": {},
   "outputs": [],
   "source": [
    "px.line(brazil_2020, 'date', 'totalCases', title='Casos confirmados de COVID-19 no Brasil em 2020')"
   ]
  },
  {
   "cell_type": "markdown",
   "metadata": {},
   "source": [
    "## Mortes em 2020"
   ]
  },
  {
   "cell_type": "code",
   "execution_count": null,
   "metadata": {},
   "outputs": [],
   "source": [
    "fig = go.Figure()\n",
    "fig.add_trace(\n",
    "  go.Scatter(x=brazil_2020.date, y=brazil_2020.deaths, name='Mortes',\n",
    "             mode='lines+markers', line={'color': 'red'})\n",
    ")\n",
    "fig.update_layout(title='Mortes por COVID-19 no Brasil em 2020')\n",
    "fig.show()"
   ]
  },
  {
   "cell_type": "markdown",
   "metadata": {},
   "source": [
    "## Taxa de crescimento diária de casos confirmados em 2020"
   ]
  },
  {
   "cell_type": "code",
   "execution_count": null,
   "metadata": {},
   "outputs": [],
   "source": [
    "def daily_growth_rate(data, variable, initial_date=None):\n",
    "  if initial_date == None:\n",
    "    initial_date = data.date.loc[data[variable] > 0].min()\n",
    "  else:\n",
    "    initial_date = pd.to_datetime(initial_date)\n",
    "\n",
    "  final_date = data.date.max()\n",
    "  number_of_days = (final_date - initial_date).days\n",
    "  rates = list(map(\n",
    "    lambda x: (data[variable].iloc[x] - data[variable].iloc[x-1]) / data[variable].iloc[x-1],\n",
    "    range(1, number_of_days+1)\n",
    "  ))\n",
    "  return np.array(rates) * 100"
   ]
  },
  {
   "cell_type": "code",
   "execution_count": null,
   "metadata": {},
   "outputs": [],
   "source": [
    "first_day = brazil_2020.date.loc[brazil_2020.totalCases > 0].min()"
   ]
  },
  {
   "cell_type": "code",
   "execution_count": null,
   "metadata": {},
   "outputs": [],
   "source": [
    "total_cases_rate = daily_growth_rate(brazil_2020, 'totalCases')"
   ]
  },
  {
   "cell_type": "code",
   "execution_count": null,
   "metadata": {},
   "outputs": [],
   "source": [
    "px.line(x=pd.date_range(first_day, brazil_2020.date.max())[1:], \n",
    "        y=total_cases_rate, title='Taxa de crescimento diária de casos confirmados de COVID-19 no Brasil em 2020')"
   ]
  },
  {
   "cell_type": "markdown",
   "metadata": {},
   "source": [
    "# Predições"
   ]
  },
  {
   "cell_type": "code",
   "execution_count": null,
   "metadata": {},
   "outputs": [],
   "source": [
    "brazil_2020_total_cases = brazil_2020.totalCases\n",
    "brazil_2020_total_cases.index = brazil_2020.date"
   ]
  },
  {
   "cell_type": "code",
   "execution_count": null,
   "metadata": {},
   "outputs": [],
   "source": [
    "brazil_2020_total_cases_decomposed = seasonal_decompose(brazil_2020_total_cases)"
   ]
  },
  {
   "cell_type": "code",
   "execution_count": null,
   "metadata": {},
   "outputs": [],
   "source": [
    "fig, (ax1, ax2, ax3, ax4) = plt.subplots(4, 1, figsize=(10, 8))\n",
    "\n",
    "ax1.plot(brazil_2020_total_cases_decomposed.observed)\n",
    "ax2.plot(brazil_2020_total_cases_decomposed.trend)\n",
    "ax3.plot(brazil_2020_total_cases_decomposed.seasonal)\n",
    "ax4.plot(brazil_2020_total_cases.index, brazil_2020_total_cases_decomposed.resid)\n",
    "ax4.axhline(0, linestyle='dashed', color='black')\n",
    "\n",
    "plt.show()"
   ]
  },
  {
   "cell_type": "markdown",
   "metadata": {},
   "source": [
    "## ARIMA"
   ]
  },
  {
   "cell_type": "code",
   "execution_count": null,
   "metadata": {},
   "outputs": [],
   "source": [
    "model = auto_arima(brazil_2020_total_cases)"
   ]
  },
  {
   "cell_type": "code",
   "execution_count": null,
   "metadata": {},
   "outputs": [],
   "source": [
    "fig = go.Figure(go.Scatter(\n",
    "  x=brazil_2020_total_cases.index, y=brazil_2020_total_cases, name='Observados'\n",
    "))\n",
    "fig.add_trace(go.Scatter(\n",
    "  x=brazil_2020_total_cases.index, y=model.predict_in_sample(), name='Preditos'\n",
    "))\n",
    "fig.add_trace(go.Scatter(\n",
    "  x=pd.date_range('2021-01-01', '2021-02-01'), y=model.predict(31), name='Forecast'\n",
    "))\n",
    "fig.update_layout(title='Previsão para casos confirmados de COVID-19 no Brasil em janeiro de 2021')\n",
    "\n",
    "fig.show()"
   ]
  },
  {
   "cell_type": "markdown",
   "metadata": {},
   "source": [
    "### ARIMA vs Real"
   ]
  },
  {
   "cell_type": "code",
   "execution_count": null,
   "metadata": {},
   "outputs": [],
   "source": [
    "brazil_2021 = brazil.loc[\n",
    "  (brazil['date'] >= \"2021-01-01\") & \n",
    "  (brazil['date'] <= \"2021-02-01\")\n",
    "]"
   ]
  },
  {
   "cell_type": "code",
   "execution_count": null,
   "metadata": {},
   "outputs": [],
   "source": [
    "brazil_2021_total_cases = brazil_2021.totalCases\n",
    "brazil_2021_total_cases.index = brazil_2021.date"
   ]
  },
  {
   "cell_type": "code",
   "execution_count": null,
   "metadata": {},
   "outputs": [],
   "source": [
    "fig = go.Figure(go.Scatter(\n",
    "  x=brazil_2021_total_cases.index, y=brazil_2021_total_cases, name='Real'\n",
    "))\n",
    "fig.add_trace(go.Scatter(\n",
    "  x=pd.date_range('2021-01-01', '2021-02-01'), y=model.predict(32), name='ARIMA'\n",
    "))\n",
    "fig.update_layout(title='Previsão vs casos reais confirmados de COVID-19 no Brasil em janeiro de 2021')\n",
    "\n",
    "fig.show()"
   ]
  }
 ],
 "metadata": {
  "kernelspec": {
   "display_name": "Python 3.10.9 ('.venv': poetry)",
   "language": "python",
   "name": "python3"
  },
  "language_info": {
   "codemirror_mode": {
    "name": "ipython",
    "version": 3
   },
   "file_extension": ".py",
   "mimetype": "text/x-python",
   "name": "python",
   "nbconvert_exporter": "python",
   "pygments_lexer": "ipython3",
   "version": "3.10.9"
  },
  "orig_nbformat": 4,
  "vscode": {
   "interpreter": {
    "hash": "052f144324a1a76f29794bdd66037e3592814a265e123449c9972836328ff26b"
   }
  }
 },
 "nbformat": 4,
 "nbformat_minor": 2
}
