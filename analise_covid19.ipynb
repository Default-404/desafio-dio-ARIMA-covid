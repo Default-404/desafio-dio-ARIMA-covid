{
 "cells": [],
 "metadata": {
  "kernelspec": {
   "display_name": "Python 3.10.9 ('.venv': poetry)",
   "language": "python",
   "name": "python3"
  },
  "language_info": {
   "codemirror_mode": {
    "name": "ipython",
    "version": 3
   },
   "file_extension": ".py",
   "mimetype": "text/x-python",
   "name": "python",
   "nbconvert_exporter": "python",
   "pygments_lexer": "ipython3",
   "version": "3.10.9"
  },
  "orig_nbformat": 4,
  "vscode": {
   "interpreter": {
    "hash": "306ced580c131a3e1f569bccf29a97e4c92a208355db24a3e463268adb8648fe"
   }
  }
 },
 "nbformat": 4,
 "nbformat_minor": 2
}
