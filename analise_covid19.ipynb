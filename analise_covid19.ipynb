{
 "cells": [
  {
   "cell_type": "code",
   "execution_count": 1,
   "metadata": {},
   "outputs": [],
   "source": [
    "import pandas as pd\n",
    "import numpy as np\n",
    "import plotly.express as px\n",
    "import plotly.graph_objects as go\n",
    "from datetime import datetime"
   ]
  },
  {
   "cell_type": "code",
   "execution_count": 2,
   "metadata": {},
   "outputs": [],
   "source": [
    "path = \"https://raw.githubusercontent.com/wcota/covid19br/master/cases-brazil-states.csv\""
   ]
  },
  {
   "cell_type": "code",
   "execution_count": 3,
   "metadata": {},
   "outputs": [],
   "source": [
    "df = pd.read_csv(path, parse_dates=['date'])"
   ]
  },
  {
   "cell_type": "code",
   "execution_count": 4,
   "metadata": {},
   "outputs": [
    {
     "data": {
      "text/html": [
       "<div>\n",
       "<style scoped>\n",
       "    .dataframe tbody tr th:only-of-type {\n",
       "        vertical-align: middle;\n",
       "    }\n",
       "\n",
       "    .dataframe tbody tr th {\n",
       "        vertical-align: top;\n",
       "    }\n",
       "\n",
       "    .dataframe thead th {\n",
       "        text-align: right;\n",
       "    }\n",
       "</style>\n",
       "<table border=\"1\" class=\"dataframe\">\n",
       "  <thead>\n",
       "    <tr style=\"text-align: right;\">\n",
       "      <th></th>\n",
       "      <th>epi_week</th>\n",
       "      <th>date</th>\n",
       "      <th>country</th>\n",
       "      <th>state</th>\n",
       "      <th>city</th>\n",
       "      <th>newDeaths</th>\n",
       "      <th>deaths</th>\n",
       "      <th>newCases</th>\n",
       "      <th>totalCases</th>\n",
       "      <th>deathsMS</th>\n",
       "      <th>...</th>\n",
       "      <th>tests</th>\n",
       "      <th>tests_per_100k_inhabitants</th>\n",
       "      <th>vaccinated</th>\n",
       "      <th>vaccinated_per_100_inhabitants</th>\n",
       "      <th>vaccinated_second</th>\n",
       "      <th>vaccinated_second_per_100_inhabitants</th>\n",
       "      <th>vaccinated_single</th>\n",
       "      <th>vaccinated_single_per_100_inhabitants</th>\n",
       "      <th>vaccinated_third</th>\n",
       "      <th>vaccinated_third_per_100_inhabitants</th>\n",
       "    </tr>\n",
       "  </thead>\n",
       "  <tbody>\n",
       "    <tr>\n",
       "      <th>0</th>\n",
       "      <td>9</td>\n",
       "      <td>2020-02-25</td>\n",
       "      <td>Brazil</td>\n",
       "      <td>SP</td>\n",
       "      <td>TOTAL</td>\n",
       "      <td>0</td>\n",
       "      <td>0</td>\n",
       "      <td>1</td>\n",
       "      <td>1</td>\n",
       "      <td>0</td>\n",
       "      <td>...</td>\n",
       "      <td>NaN</td>\n",
       "      <td>NaN</td>\n",
       "      <td>NaN</td>\n",
       "      <td>NaN</td>\n",
       "      <td>NaN</td>\n",
       "      <td>NaN</td>\n",
       "      <td>NaN</td>\n",
       "      <td>NaN</td>\n",
       "      <td>NaN</td>\n",
       "      <td>NaN</td>\n",
       "    </tr>\n",
       "    <tr>\n",
       "      <th>1</th>\n",
       "      <td>9</td>\n",
       "      <td>2020-02-25</td>\n",
       "      <td>Brazil</td>\n",
       "      <td>TOTAL</td>\n",
       "      <td>TOTAL</td>\n",
       "      <td>0</td>\n",
       "      <td>0</td>\n",
       "      <td>1</td>\n",
       "      <td>1</td>\n",
       "      <td>0</td>\n",
       "      <td>...</td>\n",
       "      <td>NaN</td>\n",
       "      <td>NaN</td>\n",
       "      <td>NaN</td>\n",
       "      <td>NaN</td>\n",
       "      <td>NaN</td>\n",
       "      <td>NaN</td>\n",
       "      <td>NaN</td>\n",
       "      <td>NaN</td>\n",
       "      <td>NaN</td>\n",
       "      <td>NaN</td>\n",
       "    </tr>\n",
       "    <tr>\n",
       "      <th>2</th>\n",
       "      <td>9</td>\n",
       "      <td>2020-02-26</td>\n",
       "      <td>Brazil</td>\n",
       "      <td>SP</td>\n",
       "      <td>TOTAL</td>\n",
       "      <td>0</td>\n",
       "      <td>0</td>\n",
       "      <td>0</td>\n",
       "      <td>1</td>\n",
       "      <td>0</td>\n",
       "      <td>...</td>\n",
       "      <td>NaN</td>\n",
       "      <td>NaN</td>\n",
       "      <td>NaN</td>\n",
       "      <td>NaN</td>\n",
       "      <td>NaN</td>\n",
       "      <td>NaN</td>\n",
       "      <td>NaN</td>\n",
       "      <td>NaN</td>\n",
       "      <td>NaN</td>\n",
       "      <td>NaN</td>\n",
       "    </tr>\n",
       "    <tr>\n",
       "      <th>3</th>\n",
       "      <td>9</td>\n",
       "      <td>2020-02-26</td>\n",
       "      <td>Brazil</td>\n",
       "      <td>TOTAL</td>\n",
       "      <td>TOTAL</td>\n",
       "      <td>0</td>\n",
       "      <td>0</td>\n",
       "      <td>0</td>\n",
       "      <td>1</td>\n",
       "      <td>0</td>\n",
       "      <td>...</td>\n",
       "      <td>NaN</td>\n",
       "      <td>NaN</td>\n",
       "      <td>NaN</td>\n",
       "      <td>NaN</td>\n",
       "      <td>NaN</td>\n",
       "      <td>NaN</td>\n",
       "      <td>NaN</td>\n",
       "      <td>NaN</td>\n",
       "      <td>NaN</td>\n",
       "      <td>NaN</td>\n",
       "    </tr>\n",
       "    <tr>\n",
       "      <th>4</th>\n",
       "      <td>9</td>\n",
       "      <td>2020-02-27</td>\n",
       "      <td>Brazil</td>\n",
       "      <td>SP</td>\n",
       "      <td>TOTAL</td>\n",
       "      <td>0</td>\n",
       "      <td>0</td>\n",
       "      <td>0</td>\n",
       "      <td>1</td>\n",
       "      <td>0</td>\n",
       "      <td>...</td>\n",
       "      <td>NaN</td>\n",
       "      <td>NaN</td>\n",
       "      <td>NaN</td>\n",
       "      <td>NaN</td>\n",
       "      <td>NaN</td>\n",
       "      <td>NaN</td>\n",
       "      <td>NaN</td>\n",
       "      <td>NaN</td>\n",
       "      <td>NaN</td>\n",
       "      <td>NaN</td>\n",
       "    </tr>\n",
       "    <tr>\n",
       "      <th>...</th>\n",
       "      <td>...</td>\n",
       "      <td>...</td>\n",
       "      <td>...</td>\n",
       "      <td>...</td>\n",
       "      <td>...</td>\n",
       "      <td>...</td>\n",
       "      <td>...</td>\n",
       "      <td>...</td>\n",
       "      <td>...</td>\n",
       "      <td>...</td>\n",
       "      <td>...</td>\n",
       "      <td>...</td>\n",
       "      <td>...</td>\n",
       "      <td>...</td>\n",
       "      <td>...</td>\n",
       "      <td>...</td>\n",
       "      <td>...</td>\n",
       "      <td>...</td>\n",
       "      <td>...</td>\n",
       "      <td>...</td>\n",
       "      <td>...</td>\n",
       "    </tr>\n",
       "    <tr>\n",
       "      <th>30389</th>\n",
       "      <td>309</td>\n",
       "      <td>2023-03-02</td>\n",
       "      <td>Brazil</td>\n",
       "      <td>SC</td>\n",
       "      <td>TOTAL</td>\n",
       "      <td>0</td>\n",
       "      <td>22701</td>\n",
       "      <td>0</td>\n",
       "      <td>1985000</td>\n",
       "      <td>22701</td>\n",
       "      <td>...</td>\n",
       "      <td>2568392.0</td>\n",
       "      <td>35847.42493</td>\n",
       "      <td>6305426.0</td>\n",
       "      <td>88.00576</td>\n",
       "      <td>5856083.0</td>\n",
       "      <td>81.73421</td>\n",
       "      <td>277356.0</td>\n",
       "      <td>3.87110</td>\n",
       "      <td>4145406.0</td>\n",
       "      <td>57.85804</td>\n",
       "    </tr>\n",
       "    <tr>\n",
       "      <th>30390</th>\n",
       "      <td>309</td>\n",
       "      <td>2023-03-02</td>\n",
       "      <td>Brazil</td>\n",
       "      <td>SE</td>\n",
       "      <td>TOTAL</td>\n",
       "      <td>0</td>\n",
       "      <td>6502</td>\n",
       "      <td>0</td>\n",
       "      <td>359666</td>\n",
       "      <td>6502</td>\n",
       "      <td>...</td>\n",
       "      <td>604183.0</td>\n",
       "      <td>26283.72782</td>\n",
       "      <td>2022787.0</td>\n",
       "      <td>87.99715</td>\n",
       "      <td>1860720.0</td>\n",
       "      <td>80.94676</td>\n",
       "      <td>42285.0</td>\n",
       "      <td>1.83952</td>\n",
       "      <td>1376006.0</td>\n",
       "      <td>59.86029</td>\n",
       "    </tr>\n",
       "    <tr>\n",
       "      <th>30391</th>\n",
       "      <td>309</td>\n",
       "      <td>2023-03-02</td>\n",
       "      <td>Brazil</td>\n",
       "      <td>SP</td>\n",
       "      <td>TOTAL</td>\n",
       "      <td>0</td>\n",
       "      <td>179013</td>\n",
       "      <td>0</td>\n",
       "      <td>6464309</td>\n",
       "      <td>179013</td>\n",
       "      <td>...</td>\n",
       "      <td>19501783.0</td>\n",
       "      <td>42469.91918</td>\n",
       "      <td>43310005.0</td>\n",
       "      <td>94.31817</td>\n",
       "      <td>40783043.0</td>\n",
       "      <td>88.81509</td>\n",
       "      <td>1286285.0</td>\n",
       "      <td>2.80120</td>\n",
       "      <td>28928279.0</td>\n",
       "      <td>62.99843</td>\n",
       "    </tr>\n",
       "    <tr>\n",
       "      <th>30392</th>\n",
       "      <td>309</td>\n",
       "      <td>2023-03-02</td>\n",
       "      <td>Brazil</td>\n",
       "      <td>TO</td>\n",
       "      <td>TOTAL</td>\n",
       "      <td>0</td>\n",
       "      <td>4232</td>\n",
       "      <td>0</td>\n",
       "      <td>365538</td>\n",
       "      <td>4232</td>\n",
       "      <td>...</td>\n",
       "      <td>903975.0</td>\n",
       "      <td>57473.10960</td>\n",
       "      <td>1181618.0</td>\n",
       "      <td>75.12515</td>\n",
       "      <td>1026630.0</td>\n",
       "      <td>65.27129</td>\n",
       "      <td>56219.0</td>\n",
       "      <td>3.57430</td>\n",
       "      <td>590824.0</td>\n",
       "      <td>37.56353</td>\n",
       "    </tr>\n",
       "    <tr>\n",
       "      <th>30393</th>\n",
       "      <td>309</td>\n",
       "      <td>2023-03-02</td>\n",
       "      <td>Brazil</td>\n",
       "      <td>TOTAL</td>\n",
       "      <td>TOTAL</td>\n",
       "      <td>0</td>\n",
       "      <td>699197</td>\n",
       "      <td>0</td>\n",
       "      <td>37063464</td>\n",
       "      <td>699197</td>\n",
       "      <td>...</td>\n",
       "      <td>70923215.0</td>\n",
       "      <td>33247.70297</td>\n",
       "      <td>183628512.0</td>\n",
       "      <td>86.08220</td>\n",
       "      <td>170129717.0</td>\n",
       "      <td>79.75417</td>\n",
       "      <td>5757282.0</td>\n",
       "      <td>2.69892</td>\n",
       "      <td>125703539.0</td>\n",
       "      <td>58.92787</td>\n",
       "    </tr>\n",
       "  </tbody>\n",
       "</table>\n",
       "<p>30394 rows × 26 columns</p>\n",
       "</div>"
      ],
      "text/plain": [
       "       epi_week       date country  state   city  newDeaths  deaths  newCases  \\\n",
       "0             9 2020-02-25  Brazil     SP  TOTAL          0       0         1   \n",
       "1             9 2020-02-25  Brazil  TOTAL  TOTAL          0       0         1   \n",
       "2             9 2020-02-26  Brazil     SP  TOTAL          0       0         0   \n",
       "3             9 2020-02-26  Brazil  TOTAL  TOTAL          0       0         0   \n",
       "4             9 2020-02-27  Brazil     SP  TOTAL          0       0         0   \n",
       "...         ...        ...     ...    ...    ...        ...     ...       ...   \n",
       "30389       309 2023-03-02  Brazil     SC  TOTAL          0   22701         0   \n",
       "30390       309 2023-03-02  Brazil     SE  TOTAL          0    6502         0   \n",
       "30391       309 2023-03-02  Brazil     SP  TOTAL          0  179013         0   \n",
       "30392       309 2023-03-02  Brazil     TO  TOTAL          0    4232         0   \n",
       "30393       309 2023-03-02  Brazil  TOTAL  TOTAL          0  699197         0   \n",
       "\n",
       "       totalCases  deathsMS  ...       tests  tests_per_100k_inhabitants  \\\n",
       "0               1         0  ...         NaN                         NaN   \n",
       "1               1         0  ...         NaN                         NaN   \n",
       "2               1         0  ...         NaN                         NaN   \n",
       "3               1         0  ...         NaN                         NaN   \n",
       "4               1         0  ...         NaN                         NaN   \n",
       "...           ...       ...  ...         ...                         ...   \n",
       "30389     1985000     22701  ...   2568392.0                 35847.42493   \n",
       "30390      359666      6502  ...    604183.0                 26283.72782   \n",
       "30391     6464309    179013  ...  19501783.0                 42469.91918   \n",
       "30392      365538      4232  ...    903975.0                 57473.10960   \n",
       "30393    37063464    699197  ...  70923215.0                 33247.70297   \n",
       "\n",
       "        vaccinated  vaccinated_per_100_inhabitants  vaccinated_second  \\\n",
       "0              NaN                             NaN                NaN   \n",
       "1              NaN                             NaN                NaN   \n",
       "2              NaN                             NaN                NaN   \n",
       "3              NaN                             NaN                NaN   \n",
       "4              NaN                             NaN                NaN   \n",
       "...            ...                             ...                ...   \n",
       "30389    6305426.0                        88.00576          5856083.0   \n",
       "30390    2022787.0                        87.99715          1860720.0   \n",
       "30391   43310005.0                        94.31817         40783043.0   \n",
       "30392    1181618.0                        75.12515          1026630.0   \n",
       "30393  183628512.0                        86.08220        170129717.0   \n",
       "\n",
       "       vaccinated_second_per_100_inhabitants  vaccinated_single  \\\n",
       "0                                        NaN                NaN   \n",
       "1                                        NaN                NaN   \n",
       "2                                        NaN                NaN   \n",
       "3                                        NaN                NaN   \n",
       "4                                        NaN                NaN   \n",
       "...                                      ...                ...   \n",
       "30389                               81.73421           277356.0   \n",
       "30390                               80.94676            42285.0   \n",
       "30391                               88.81509          1286285.0   \n",
       "30392                               65.27129            56219.0   \n",
       "30393                               79.75417          5757282.0   \n",
       "\n",
       "       vaccinated_single_per_100_inhabitants  vaccinated_third  \\\n",
       "0                                        NaN               NaN   \n",
       "1                                        NaN               NaN   \n",
       "2                                        NaN               NaN   \n",
       "3                                        NaN               NaN   \n",
       "4                                        NaN               NaN   \n",
       "...                                      ...               ...   \n",
       "30389                                3.87110         4145406.0   \n",
       "30390                                1.83952         1376006.0   \n",
       "30391                                2.80120        28928279.0   \n",
       "30392                                3.57430          590824.0   \n",
       "30393                                2.69892       125703539.0   \n",
       "\n",
       "       vaccinated_third_per_100_inhabitants  \n",
       "0                                       NaN  \n",
       "1                                       NaN  \n",
       "2                                       NaN  \n",
       "3                                       NaN  \n",
       "4                                       NaN  \n",
       "...                                     ...  \n",
       "30389                              57.85804  \n",
       "30390                              59.86029  \n",
       "30391                              62.99843  \n",
       "30392                              37.56353  \n",
       "30393                              58.92787  \n",
       "\n",
       "[30394 rows x 26 columns]"
      ]
     },
     "execution_count": 4,
     "metadata": {},
     "output_type": "execute_result"
    }
   ],
   "source": [
    "df"
   ]
  },
  {
   "cell_type": "code",
   "execution_count": 5,
   "metadata": {},
   "outputs": [
    {
     "data": {
      "text/plain": [
       "epi_week                                          int64\n",
       "date                                     datetime64[ns]\n",
       "country                                          object\n",
       "state                                            object\n",
       "city                                             object\n",
       "newDeaths                                         int64\n",
       "deaths                                            int64\n",
       "newCases                                          int64\n",
       "totalCases                                        int64\n",
       "deathsMS                                          int64\n",
       "totalCasesMS                                      int64\n",
       "deaths_per_100k_inhabitants                     float64\n",
       "totalCases_per_100k_inhabitants                 float64\n",
       "deaths_by_totalCases                            float64\n",
       "recovered                                       float64\n",
       "suspects                                        float64\n",
       "tests                                           float64\n",
       "tests_per_100k_inhabitants                      float64\n",
       "vaccinated                                      float64\n",
       "vaccinated_per_100_inhabitants                  float64\n",
       "vaccinated_second                               float64\n",
       "vaccinated_second_per_100_inhabitants           float64\n",
       "vaccinated_single                               float64\n",
       "vaccinated_single_per_100_inhabitants           float64\n",
       "vaccinated_third                                float64\n",
       "vaccinated_third_per_100_inhabitants            float64\n",
       "dtype: object"
      ]
     },
     "execution_count": 5,
     "metadata": {},
     "output_type": "execute_result"
    }
   ],
   "source": [
    "df.dtypes"
   ]
  },
  {
   "cell_type": "code",
   "execution_count": 6,
   "metadata": {},
   "outputs": [],
   "source": [
    "brazil = df.loc[(df.state == 'TOTAL')]"
   ]
  },
  {
   "cell_type": "code",
   "execution_count": 7,
   "metadata": {},
   "outputs": [
    {
     "data": {
      "text/html": [
       "<div>\n",
       "<style scoped>\n",
       "    .dataframe tbody tr th:only-of-type {\n",
       "        vertical-align: middle;\n",
       "    }\n",
       "\n",
       "    .dataframe tbody tr th {\n",
       "        vertical-align: top;\n",
       "    }\n",
       "\n",
       "    .dataframe thead th {\n",
       "        text-align: right;\n",
       "    }\n",
       "</style>\n",
       "<table border=\"1\" class=\"dataframe\">\n",
       "  <thead>\n",
       "    <tr style=\"text-align: right;\">\n",
       "      <th></th>\n",
       "      <th>epi_week</th>\n",
       "      <th>date</th>\n",
       "      <th>country</th>\n",
       "      <th>state</th>\n",
       "      <th>city</th>\n",
       "      <th>newDeaths</th>\n",
       "      <th>deaths</th>\n",
       "      <th>newCases</th>\n",
       "      <th>totalCases</th>\n",
       "      <th>deathsMS</th>\n",
       "      <th>...</th>\n",
       "      <th>tests</th>\n",
       "      <th>tests_per_100k_inhabitants</th>\n",
       "      <th>vaccinated</th>\n",
       "      <th>vaccinated_per_100_inhabitants</th>\n",
       "      <th>vaccinated_second</th>\n",
       "      <th>vaccinated_second_per_100_inhabitants</th>\n",
       "      <th>vaccinated_single</th>\n",
       "      <th>vaccinated_single_per_100_inhabitants</th>\n",
       "      <th>vaccinated_third</th>\n",
       "      <th>vaccinated_third_per_100_inhabitants</th>\n",
       "    </tr>\n",
       "  </thead>\n",
       "  <tbody>\n",
       "    <tr>\n",
       "      <th>1</th>\n",
       "      <td>9</td>\n",
       "      <td>2020-02-25</td>\n",
       "      <td>Brazil</td>\n",
       "      <td>TOTAL</td>\n",
       "      <td>TOTAL</td>\n",
       "      <td>0</td>\n",
       "      <td>0</td>\n",
       "      <td>1</td>\n",
       "      <td>1</td>\n",
       "      <td>0</td>\n",
       "      <td>...</td>\n",
       "      <td>NaN</td>\n",
       "      <td>NaN</td>\n",
       "      <td>NaN</td>\n",
       "      <td>NaN</td>\n",
       "      <td>NaN</td>\n",
       "      <td>NaN</td>\n",
       "      <td>NaN</td>\n",
       "      <td>NaN</td>\n",
       "      <td>NaN</td>\n",
       "      <td>NaN</td>\n",
       "    </tr>\n",
       "    <tr>\n",
       "      <th>3</th>\n",
       "      <td>9</td>\n",
       "      <td>2020-02-26</td>\n",
       "      <td>Brazil</td>\n",
       "      <td>TOTAL</td>\n",
       "      <td>TOTAL</td>\n",
       "      <td>0</td>\n",
       "      <td>0</td>\n",
       "      <td>0</td>\n",
       "      <td>1</td>\n",
       "      <td>0</td>\n",
       "      <td>...</td>\n",
       "      <td>NaN</td>\n",
       "      <td>NaN</td>\n",
       "      <td>NaN</td>\n",
       "      <td>NaN</td>\n",
       "      <td>NaN</td>\n",
       "      <td>NaN</td>\n",
       "      <td>NaN</td>\n",
       "      <td>NaN</td>\n",
       "      <td>NaN</td>\n",
       "      <td>NaN</td>\n",
       "    </tr>\n",
       "    <tr>\n",
       "      <th>5</th>\n",
       "      <td>9</td>\n",
       "      <td>2020-02-27</td>\n",
       "      <td>Brazil</td>\n",
       "      <td>TOTAL</td>\n",
       "      <td>TOTAL</td>\n",
       "      <td>0</td>\n",
       "      <td>0</td>\n",
       "      <td>0</td>\n",
       "      <td>1</td>\n",
       "      <td>0</td>\n",
       "      <td>...</td>\n",
       "      <td>NaN</td>\n",
       "      <td>NaN</td>\n",
       "      <td>NaN</td>\n",
       "      <td>NaN</td>\n",
       "      <td>NaN</td>\n",
       "      <td>NaN</td>\n",
       "      <td>NaN</td>\n",
       "      <td>NaN</td>\n",
       "      <td>NaN</td>\n",
       "      <td>NaN</td>\n",
       "    </tr>\n",
       "    <tr>\n",
       "      <th>7</th>\n",
       "      <td>9</td>\n",
       "      <td>2020-02-28</td>\n",
       "      <td>Brazil</td>\n",
       "      <td>TOTAL</td>\n",
       "      <td>TOTAL</td>\n",
       "      <td>0</td>\n",
       "      <td>0</td>\n",
       "      <td>1</td>\n",
       "      <td>2</td>\n",
       "      <td>0</td>\n",
       "      <td>...</td>\n",
       "      <td>NaN</td>\n",
       "      <td>NaN</td>\n",
       "      <td>NaN</td>\n",
       "      <td>NaN</td>\n",
       "      <td>NaN</td>\n",
       "      <td>NaN</td>\n",
       "      <td>NaN</td>\n",
       "      <td>NaN</td>\n",
       "      <td>NaN</td>\n",
       "      <td>NaN</td>\n",
       "    </tr>\n",
       "    <tr>\n",
       "      <th>9</th>\n",
       "      <td>9</td>\n",
       "      <td>2020-02-29</td>\n",
       "      <td>Brazil</td>\n",
       "      <td>TOTAL</td>\n",
       "      <td>TOTAL</td>\n",
       "      <td>0</td>\n",
       "      <td>0</td>\n",
       "      <td>0</td>\n",
       "      <td>2</td>\n",
       "      <td>0</td>\n",
       "      <td>...</td>\n",
       "      <td>NaN</td>\n",
       "      <td>NaN</td>\n",
       "      <td>NaN</td>\n",
       "      <td>NaN</td>\n",
       "      <td>NaN</td>\n",
       "      <td>NaN</td>\n",
       "      <td>NaN</td>\n",
       "      <td>NaN</td>\n",
       "      <td>NaN</td>\n",
       "      <td>NaN</td>\n",
       "    </tr>\n",
       "    <tr>\n",
       "      <th>...</th>\n",
       "      <td>...</td>\n",
       "      <td>...</td>\n",
       "      <td>...</td>\n",
       "      <td>...</td>\n",
       "      <td>...</td>\n",
       "      <td>...</td>\n",
       "      <td>...</td>\n",
       "      <td>...</td>\n",
       "      <td>...</td>\n",
       "      <td>...</td>\n",
       "      <td>...</td>\n",
       "      <td>...</td>\n",
       "      <td>...</td>\n",
       "      <td>...</td>\n",
       "      <td>...</td>\n",
       "      <td>...</td>\n",
       "      <td>...</td>\n",
       "      <td>...</td>\n",
       "      <td>...</td>\n",
       "      <td>...</td>\n",
       "      <td>...</td>\n",
       "    </tr>\n",
       "    <tr>\n",
       "      <th>30281</th>\n",
       "      <td>309</td>\n",
       "      <td>2023-02-26</td>\n",
       "      <td>Brazil</td>\n",
       "      <td>TOTAL</td>\n",
       "      <td>TOTAL</td>\n",
       "      <td>0</td>\n",
       "      <td>698928</td>\n",
       "      <td>0</td>\n",
       "      <td>37020531</td>\n",
       "      <td>698928</td>\n",
       "      <td>...</td>\n",
       "      <td>70923215.0</td>\n",
       "      <td>33247.70297</td>\n",
       "      <td>183558049.0</td>\n",
       "      <td>86.04917</td>\n",
       "      <td>170075373.0</td>\n",
       "      <td>79.72870</td>\n",
       "      <td>5757203.0</td>\n",
       "      <td>2.69889</td>\n",
       "      <td>125615869.0</td>\n",
       "      <td>58.88677</td>\n",
       "    </tr>\n",
       "    <tr>\n",
       "      <th>30309</th>\n",
       "      <td>309</td>\n",
       "      <td>2023-02-27</td>\n",
       "      <td>Brazil</td>\n",
       "      <td>TOTAL</td>\n",
       "      <td>TOTAL</td>\n",
       "      <td>78</td>\n",
       "      <td>699006</td>\n",
       "      <td>17699</td>\n",
       "      <td>37038230</td>\n",
       "      <td>699006</td>\n",
       "      <td>...</td>\n",
       "      <td>70923215.0</td>\n",
       "      <td>33247.70297</td>\n",
       "      <td>183605792.0</td>\n",
       "      <td>86.07155</td>\n",
       "      <td>170105022.0</td>\n",
       "      <td>79.74260</td>\n",
       "      <td>5757282.0</td>\n",
       "      <td>2.69892</td>\n",
       "      <td>125664542.0</td>\n",
       "      <td>58.90959</td>\n",
       "    </tr>\n",
       "    <tr>\n",
       "      <th>30337</th>\n",
       "      <td>309</td>\n",
       "      <td>2023-02-28</td>\n",
       "      <td>Brazil</td>\n",
       "      <td>TOTAL</td>\n",
       "      <td>TOTAL</td>\n",
       "      <td>81</td>\n",
       "      <td>699087</td>\n",
       "      <td>14706</td>\n",
       "      <td>37052936</td>\n",
       "      <td>699087</td>\n",
       "      <td>...</td>\n",
       "      <td>70923215.0</td>\n",
       "      <td>33247.70297</td>\n",
       "      <td>183620668.0</td>\n",
       "      <td>86.07852</td>\n",
       "      <td>170122528.0</td>\n",
       "      <td>79.75080</td>\n",
       "      <td>5757282.0</td>\n",
       "      <td>2.69892</td>\n",
       "      <td>125688357.0</td>\n",
       "      <td>58.92075</td>\n",
       "    </tr>\n",
       "    <tr>\n",
       "      <th>30365</th>\n",
       "      <td>309</td>\n",
       "      <td>2023-03-01</td>\n",
       "      <td>Brazil</td>\n",
       "      <td>TOTAL</td>\n",
       "      <td>TOTAL</td>\n",
       "      <td>110</td>\n",
       "      <td>699197</td>\n",
       "      <td>10528</td>\n",
       "      <td>37063464</td>\n",
       "      <td>699197</td>\n",
       "      <td>...</td>\n",
       "      <td>70923215.0</td>\n",
       "      <td>33247.70297</td>\n",
       "      <td>183628512.0</td>\n",
       "      <td>86.08220</td>\n",
       "      <td>170129717.0</td>\n",
       "      <td>79.75417</td>\n",
       "      <td>5757282.0</td>\n",
       "      <td>2.69892</td>\n",
       "      <td>125703539.0</td>\n",
       "      <td>58.92787</td>\n",
       "    </tr>\n",
       "    <tr>\n",
       "      <th>30393</th>\n",
       "      <td>309</td>\n",
       "      <td>2023-03-02</td>\n",
       "      <td>Brazil</td>\n",
       "      <td>TOTAL</td>\n",
       "      <td>TOTAL</td>\n",
       "      <td>0</td>\n",
       "      <td>699197</td>\n",
       "      <td>0</td>\n",
       "      <td>37063464</td>\n",
       "      <td>699197</td>\n",
       "      <td>...</td>\n",
       "      <td>70923215.0</td>\n",
       "      <td>33247.70297</td>\n",
       "      <td>183628512.0</td>\n",
       "      <td>86.08220</td>\n",
       "      <td>170129717.0</td>\n",
       "      <td>79.75417</td>\n",
       "      <td>5757282.0</td>\n",
       "      <td>2.69892</td>\n",
       "      <td>125703539.0</td>\n",
       "      <td>58.92787</td>\n",
       "    </tr>\n",
       "  </tbody>\n",
       "</table>\n",
       "<p>1102 rows × 26 columns</p>\n",
       "</div>"
      ],
      "text/plain": [
       "       epi_week       date country  state   city  newDeaths  deaths  newCases  \\\n",
       "1             9 2020-02-25  Brazil  TOTAL  TOTAL          0       0         1   \n",
       "3             9 2020-02-26  Brazil  TOTAL  TOTAL          0       0         0   \n",
       "5             9 2020-02-27  Brazil  TOTAL  TOTAL          0       0         0   \n",
       "7             9 2020-02-28  Brazil  TOTAL  TOTAL          0       0         1   \n",
       "9             9 2020-02-29  Brazil  TOTAL  TOTAL          0       0         0   \n",
       "...         ...        ...     ...    ...    ...        ...     ...       ...   \n",
       "30281       309 2023-02-26  Brazil  TOTAL  TOTAL          0  698928         0   \n",
       "30309       309 2023-02-27  Brazil  TOTAL  TOTAL         78  699006     17699   \n",
       "30337       309 2023-02-28  Brazil  TOTAL  TOTAL         81  699087     14706   \n",
       "30365       309 2023-03-01  Brazil  TOTAL  TOTAL        110  699197     10528   \n",
       "30393       309 2023-03-02  Brazil  TOTAL  TOTAL          0  699197         0   \n",
       "\n",
       "       totalCases  deathsMS  ...       tests  tests_per_100k_inhabitants  \\\n",
       "1               1         0  ...         NaN                         NaN   \n",
       "3               1         0  ...         NaN                         NaN   \n",
       "5               1         0  ...         NaN                         NaN   \n",
       "7               2         0  ...         NaN                         NaN   \n",
       "9               2         0  ...         NaN                         NaN   \n",
       "...           ...       ...  ...         ...                         ...   \n",
       "30281    37020531    698928  ...  70923215.0                 33247.70297   \n",
       "30309    37038230    699006  ...  70923215.0                 33247.70297   \n",
       "30337    37052936    699087  ...  70923215.0                 33247.70297   \n",
       "30365    37063464    699197  ...  70923215.0                 33247.70297   \n",
       "30393    37063464    699197  ...  70923215.0                 33247.70297   \n",
       "\n",
       "        vaccinated  vaccinated_per_100_inhabitants  vaccinated_second  \\\n",
       "1              NaN                             NaN                NaN   \n",
       "3              NaN                             NaN                NaN   \n",
       "5              NaN                             NaN                NaN   \n",
       "7              NaN                             NaN                NaN   \n",
       "9              NaN                             NaN                NaN   \n",
       "...            ...                             ...                ...   \n",
       "30281  183558049.0                        86.04917        170075373.0   \n",
       "30309  183605792.0                        86.07155        170105022.0   \n",
       "30337  183620668.0                        86.07852        170122528.0   \n",
       "30365  183628512.0                        86.08220        170129717.0   \n",
       "30393  183628512.0                        86.08220        170129717.0   \n",
       "\n",
       "       vaccinated_second_per_100_inhabitants  vaccinated_single  \\\n",
       "1                                        NaN                NaN   \n",
       "3                                        NaN                NaN   \n",
       "5                                        NaN                NaN   \n",
       "7                                        NaN                NaN   \n",
       "9                                        NaN                NaN   \n",
       "...                                      ...                ...   \n",
       "30281                               79.72870          5757203.0   \n",
       "30309                               79.74260          5757282.0   \n",
       "30337                               79.75080          5757282.0   \n",
       "30365                               79.75417          5757282.0   \n",
       "30393                               79.75417          5757282.0   \n",
       "\n",
       "       vaccinated_single_per_100_inhabitants  vaccinated_third  \\\n",
       "1                                        NaN               NaN   \n",
       "3                                        NaN               NaN   \n",
       "5                                        NaN               NaN   \n",
       "7                                        NaN               NaN   \n",
       "9                                        NaN               NaN   \n",
       "...                                      ...               ...   \n",
       "30281                                2.69889       125615869.0   \n",
       "30309                                2.69892       125664542.0   \n",
       "30337                                2.69892       125688357.0   \n",
       "30365                                2.69892       125703539.0   \n",
       "30393                                2.69892       125703539.0   \n",
       "\n",
       "       vaccinated_third_per_100_inhabitants  \n",
       "1                                       NaN  \n",
       "3                                       NaN  \n",
       "5                                       NaN  \n",
       "7                                       NaN  \n",
       "9                                       NaN  \n",
       "...                                     ...  \n",
       "30281                              58.88677  \n",
       "30309                              58.90959  \n",
       "30337                              58.92075  \n",
       "30365                              58.92787  \n",
       "30393                              58.92787  \n",
       "\n",
       "[1102 rows x 26 columns]"
      ]
     },
     "execution_count": 7,
     "metadata": {},
     "output_type": "execute_result"
    }
   ],
   "source": [
    "brazil"
   ]
  },
  {
   "cell_type": "code",
   "execution_count": 8,
   "metadata": {},
   "outputs": [],
   "source": [
    "brazil_2020 = brazil.loc[\n",
    "  (brazil['date'] >= \"2020-02-25\") & \n",
    "  (brazil['date'] <= \"2020-12-31\")\n",
    "]"
   ]
  },
  {
   "cell_type": "markdown",
   "metadata": {},
   "source": [
    "# Casos confirmados em 2020"
   ]
  },
  {
   "cell_type": "code",
   "execution_count": 9,
   "metadata": {},
   "outputs": [
    {
     "data": {
      "application/vnd.plotly.v1+json": {
       "config": {
        "plotlyServerURL": "https://plot.ly"
       },
       "data": [
        {
         "hovertemplate": "date=%{x}<br>totalCases=%{y}<extra></extra>",
         "legendgroup": "",
         "line": {
          "color": "#636efa",
          "dash": "solid"
         },
         "marker": {
          "symbol": "circle"
         },
         "mode": "lines",
         "name": "",
         "orientation": "v",
         "showlegend": false,
         "type": "scatter",
         "x": [
          "2020-02-25T00:00:00",
          "2020-02-26T00:00:00",
          "2020-02-27T00:00:00",
          "2020-02-28T00:00:00",
          "2020-02-29T00:00:00",
          "2020-03-01T00:00:00",
          "2020-03-02T00:00:00",
          "2020-03-03T00:00:00",
          "2020-03-04T00:00:00",
          "2020-03-05T00:00:00",
          "2020-03-06T00:00:00",
          "2020-03-07T00:00:00",
          "2020-03-08T00:00:00",
          "2020-03-09T00:00:00",
          "2020-03-10T00:00:00",
          "2020-03-11T00:00:00",
          "2020-03-12T00:00:00",
          "2020-03-13T00:00:00",
          "2020-03-14T00:00:00",
          "2020-03-15T00:00:00",
          "2020-03-16T00:00:00",
          "2020-03-17T00:00:00",
          "2020-03-18T00:00:00",
          "2020-03-19T00:00:00",
          "2020-03-20T00:00:00",
          "2020-03-21T00:00:00",
          "2020-03-22T00:00:00",
          "2020-03-23T00:00:00",
          "2020-03-24T00:00:00",
          "2020-03-25T00:00:00",
          "2020-03-26T00:00:00",
          "2020-03-27T00:00:00",
          "2020-03-28T00:00:00",
          "2020-03-29T00:00:00",
          "2020-03-30T00:00:00",
          "2020-03-31T00:00:00",
          "2020-04-01T00:00:00",
          "2020-04-02T00:00:00",
          "2020-04-03T00:00:00",
          "2020-04-04T00:00:00",
          "2020-04-05T00:00:00",
          "2020-04-06T00:00:00",
          "2020-04-07T00:00:00",
          "2020-04-08T00:00:00",
          "2020-04-09T00:00:00",
          "2020-04-10T00:00:00",
          "2020-04-11T00:00:00",
          "2020-04-12T00:00:00",
          "2020-04-13T00:00:00",
          "2020-04-14T00:00:00",
          "2020-04-15T00:00:00",
          "2020-04-16T00:00:00",
          "2020-04-17T00:00:00",
          "2020-04-18T00:00:00",
          "2020-04-19T00:00:00",
          "2020-04-20T00:00:00",
          "2020-04-21T00:00:00",
          "2020-04-22T00:00:00",
          "2020-04-23T00:00:00",
          "2020-04-24T00:00:00",
          "2020-04-25T00:00:00",
          "2020-04-26T00:00:00",
          "2020-04-27T00:00:00",
          "2020-04-28T00:00:00",
          "2020-04-29T00:00:00",
          "2020-04-30T00:00:00",
          "2020-05-01T00:00:00",
          "2020-05-02T00:00:00",
          "2020-05-03T00:00:00",
          "2020-05-04T00:00:00",
          "2020-05-05T00:00:00",
          "2020-05-06T00:00:00",
          "2020-05-07T00:00:00",
          "2020-05-08T00:00:00",
          "2020-05-09T00:00:00",
          "2020-05-10T00:00:00",
          "2020-05-11T00:00:00",
          "2020-05-12T00:00:00",
          "2020-05-13T00:00:00",
          "2020-05-14T00:00:00",
          "2020-05-15T00:00:00",
          "2020-05-16T00:00:00",
          "2020-05-17T00:00:00",
          "2020-05-18T00:00:00",
          "2020-05-19T00:00:00",
          "2020-05-20T00:00:00",
          "2020-05-21T00:00:00",
          "2020-05-22T00:00:00",
          "2020-05-23T00:00:00",
          "2020-05-24T00:00:00",
          "2020-05-25T00:00:00",
          "2020-05-26T00:00:00",
          "2020-05-27T00:00:00",
          "2020-05-28T00:00:00",
          "2020-05-29T00:00:00",
          "2020-05-30T00:00:00",
          "2020-05-31T00:00:00",
          "2020-06-01T00:00:00",
          "2020-06-02T00:00:00",
          "2020-06-03T00:00:00",
          "2020-06-04T00:00:00",
          "2020-06-05T00:00:00",
          "2020-06-06T00:00:00",
          "2020-06-07T00:00:00",
          "2020-06-08T00:00:00",
          "2020-06-09T00:00:00",
          "2020-06-10T00:00:00",
          "2020-06-11T00:00:00",
          "2020-06-12T00:00:00",
          "2020-06-13T00:00:00",
          "2020-06-14T00:00:00",
          "2020-06-15T00:00:00",
          "2020-06-16T00:00:00",
          "2020-06-17T00:00:00",
          "2020-06-18T00:00:00",
          "2020-06-19T00:00:00",
          "2020-06-20T00:00:00",
          "2020-06-21T00:00:00",
          "2020-06-22T00:00:00",
          "2020-06-23T00:00:00",
          "2020-06-24T00:00:00",
          "2020-06-25T00:00:00",
          "2020-06-26T00:00:00",
          "2020-06-27T00:00:00",
          "2020-06-28T00:00:00",
          "2020-06-29T00:00:00",
          "2020-06-30T00:00:00",
          "2020-07-01T00:00:00",
          "2020-07-02T00:00:00",
          "2020-07-03T00:00:00",
          "2020-07-04T00:00:00",
          "2020-07-05T00:00:00",
          "2020-07-06T00:00:00",
          "2020-07-07T00:00:00",
          "2020-07-08T00:00:00",
          "2020-07-09T00:00:00",
          "2020-07-10T00:00:00",
          "2020-07-11T00:00:00",
          "2020-07-12T00:00:00",
          "2020-07-13T00:00:00",
          "2020-07-14T00:00:00",
          "2020-07-15T00:00:00",
          "2020-07-16T00:00:00",
          "2020-07-17T00:00:00",
          "2020-07-18T00:00:00",
          "2020-07-19T00:00:00",
          "2020-07-20T00:00:00",
          "2020-07-21T00:00:00",
          "2020-07-22T00:00:00",
          "2020-07-23T00:00:00",
          "2020-07-24T00:00:00",
          "2020-07-25T00:00:00",
          "2020-07-26T00:00:00",
          "2020-07-27T00:00:00",
          "2020-07-28T00:00:00",
          "2020-07-29T00:00:00",
          "2020-07-30T00:00:00",
          "2020-07-31T00:00:00",
          "2020-08-01T00:00:00",
          "2020-08-02T00:00:00",
          "2020-08-03T00:00:00",
          "2020-08-04T00:00:00",
          "2020-08-05T00:00:00",
          "2020-08-06T00:00:00",
          "2020-08-07T00:00:00",
          "2020-08-08T00:00:00",
          "2020-08-09T00:00:00",
          "2020-08-10T00:00:00",
          "2020-08-11T00:00:00",
          "2020-08-12T00:00:00",
          "2020-08-13T00:00:00",
          "2020-08-14T00:00:00",
          "2020-08-15T00:00:00",
          "2020-08-16T00:00:00",
          "2020-08-17T00:00:00",
          "2020-08-18T00:00:00",
          "2020-08-19T00:00:00",
          "2020-08-20T00:00:00",
          "2020-08-21T00:00:00",
          "2020-08-22T00:00:00",
          "2020-08-23T00:00:00",
          "2020-08-24T00:00:00",
          "2020-08-25T00:00:00",
          "2020-08-26T00:00:00",
          "2020-08-27T00:00:00",
          "2020-08-28T00:00:00",
          "2020-08-29T00:00:00",
          "2020-08-30T00:00:00",
          "2020-08-31T00:00:00",
          "2020-09-01T00:00:00",
          "2020-09-02T00:00:00",
          "2020-09-03T00:00:00",
          "2020-09-04T00:00:00",
          "2020-09-05T00:00:00",
          "2020-09-06T00:00:00",
          "2020-09-07T00:00:00",
          "2020-09-08T00:00:00",
          "2020-09-09T00:00:00",
          "2020-09-10T00:00:00",
          "2020-09-11T00:00:00",
          "2020-09-12T00:00:00",
          "2020-09-13T00:00:00",
          "2020-09-14T00:00:00",
          "2020-09-15T00:00:00",
          "2020-09-16T00:00:00",
          "2020-09-17T00:00:00",
          "2020-09-18T00:00:00",
          "2020-09-19T00:00:00",
          "2020-09-20T00:00:00",
          "2020-09-21T00:00:00",
          "2020-09-22T00:00:00",
          "2020-09-23T00:00:00",
          "2020-09-24T00:00:00",
          "2020-09-25T00:00:00",
          "2020-09-26T00:00:00",
          "2020-09-27T00:00:00",
          "2020-09-28T00:00:00",
          "2020-09-29T00:00:00",
          "2020-09-30T00:00:00",
          "2020-10-01T00:00:00",
          "2020-10-02T00:00:00",
          "2020-10-03T00:00:00",
          "2020-10-04T00:00:00",
          "2020-10-05T00:00:00",
          "2020-10-06T00:00:00",
          "2020-10-07T00:00:00",
          "2020-10-08T00:00:00",
          "2020-10-09T00:00:00",
          "2020-10-10T00:00:00",
          "2020-10-11T00:00:00",
          "2020-10-12T00:00:00",
          "2020-10-13T00:00:00",
          "2020-10-14T00:00:00",
          "2020-10-15T00:00:00",
          "2020-10-16T00:00:00",
          "2020-10-17T00:00:00",
          "2020-10-18T00:00:00",
          "2020-10-19T00:00:00",
          "2020-10-20T00:00:00",
          "2020-10-21T00:00:00",
          "2020-10-22T00:00:00",
          "2020-10-23T00:00:00",
          "2020-10-24T00:00:00",
          "2020-10-25T00:00:00",
          "2020-10-26T00:00:00",
          "2020-10-27T00:00:00",
          "2020-10-28T00:00:00",
          "2020-10-29T00:00:00",
          "2020-10-30T00:00:00",
          "2020-10-31T00:00:00",
          "2020-11-01T00:00:00",
          "2020-11-02T00:00:00",
          "2020-11-03T00:00:00",
          "2020-11-04T00:00:00",
          "2020-11-05T00:00:00",
          "2020-11-06T00:00:00",
          "2020-11-07T00:00:00",
          "2020-11-08T00:00:00",
          "2020-11-09T00:00:00",
          "2020-11-10T00:00:00",
          "2020-11-11T00:00:00",
          "2020-11-12T00:00:00",
          "2020-11-13T00:00:00",
          "2020-11-14T00:00:00",
          "2020-11-15T00:00:00",
          "2020-11-16T00:00:00",
          "2020-11-17T00:00:00",
          "2020-11-18T00:00:00",
          "2020-11-19T00:00:00",
          "2020-11-20T00:00:00",
          "2020-11-21T00:00:00",
          "2020-11-22T00:00:00",
          "2020-11-23T00:00:00",
          "2020-11-24T00:00:00",
          "2020-11-25T00:00:00",
          "2020-11-26T00:00:00",
          "2020-11-27T00:00:00",
          "2020-11-28T00:00:00",
          "2020-11-29T00:00:00",
          "2020-11-30T00:00:00",
          "2020-12-01T00:00:00",
          "2020-12-02T00:00:00",
          "2020-12-03T00:00:00",
          "2020-12-04T00:00:00",
          "2020-12-05T00:00:00",
          "2020-12-06T00:00:00",
          "2020-12-07T00:00:00",
          "2020-12-08T00:00:00",
          "2020-12-09T00:00:00",
          "2020-12-10T00:00:00",
          "2020-12-11T00:00:00",
          "2020-12-12T00:00:00",
          "2020-12-13T00:00:00",
          "2020-12-14T00:00:00",
          "2020-12-15T00:00:00",
          "2020-12-16T00:00:00",
          "2020-12-17T00:00:00",
          "2020-12-18T00:00:00",
          "2020-12-19T00:00:00",
          "2020-12-20T00:00:00",
          "2020-12-21T00:00:00",
          "2020-12-22T00:00:00",
          "2020-12-23T00:00:00",
          "2020-12-24T00:00:00",
          "2020-12-25T00:00:00",
          "2020-12-26T00:00:00",
          "2020-12-27T00:00:00",
          "2020-12-28T00:00:00",
          "2020-12-29T00:00:00",
          "2020-12-30T00:00:00",
          "2020-12-31T00:00:00"
         ],
         "xaxis": "x",
         "y": [
          1,
          1,
          1,
          2,
          2,
          2,
          2,
          2,
          3,
          7,
          14,
          19,
          25,
          25,
          34,
          53,
          89,
          106,
          142,
          225,
          279,
          333,
          514,
          643,
          974,
          1198,
          1594,
          1952,
          2255,
          2566,
          2990,
          3476,
          3955,
          4315,
          4663,
          5824,
          6931,
          8100,
          9212,
          10381,
          11424,
          12262,
          14083,
          16258,
          18195,
          19937,
          20992,
          22456,
          23868,
          25777,
          29019,
          31101,
          34397,
          37175,
          39197,
          40937,
          43679,
          46419,
          50298,
          54208,
          59507,
          63222,
          67367,
          73598,
          79799,
          87121,
          92665,
          97578,
          102023,
          109005,
          116412,
          126951,
          136687,
          147089,
          157251,
          163510,
          169729,
          179333,
          191028,
          205158,
          220620,
          234675,
          242344,
          256899,
          274382,
          294603,
          312746,
          334544,
          351554,
          366031,
          378810,
          395133,
          415331,
          443664,
          470554,
          502874,
          516096,
          531245,
          562917,
          589002,
          620952,
          653050,
          676840,
          694825,
          712160,
          743852,
          777641,
          806399,
          830654,
          851843,
          868635,
          893251,
          930233,
          961153,
          986670,
          1042725,
          1071579,
          1088145,
          1114633,
          1154133,
          1195186,
          1236650,
          1281531,
          1318449,
          1351439,
          1372878,
          1412558,
          1459383,
          1503781,
          1546819,
          1580385,
          1605577,
          1630029,
          1676725,
          1721974,
          1764930,
          1809240,
          1844186,
          1867843,
          1890382,
          1933152,
          1973716,
          2017554,
          2052234,
          2077928,
          2101144,
          2124152,
          2171079,
          2237229,
          2294555,
          2351305,
          2398833,
          2421503,
          2449501,
          2503496,
          2558935,
          2617096,
          2670238,
          2711763,
          2735981,
          2755928,
          2811939,
          2868616,
          2922350,
          2972008,
          3018122,
          3040863,
          3067485,
          3118070,
          3172946,
          3233770,
          3283227,
          3320078,
          3343114,
          3367250,
          3416112,
          3464419,
          3507370,
          3539936,
          3586055,
          3607890,
          3631014,
          3677303,
          3725436,
          3767790,
          3811784,
          3849381,
          3864046,
          3913910,
          3958085,
          4004680,
          4051501,
          4091389,
          4125264,
          4139961,
          4149501,
          4168262,
          4205375,
          4246120,
          4287571,
          4318440,
          4332459,
          4352784,
          4387523,
          4424899,
          4461298,
          4501015,
          4530570,
          4546008,
          4563333,
          4598592,
          4631316,
          4663326,
          4695634,
          4720349,
          4734134,
          4750999,
          4783728,
          4816721,
          4852496,
          4885312,
          4908044,
          4917033,
          4943077,
          4974599,
          5005531,
          5032347,
          5060081,
          5083834,
          5096023,
          5104656,
          5118010,
          5145847,
          5176270,
          5204863,
          5225639,
          5237689,
          5254266,
          5278029,
          5303882,
          5328647,
          5358559,
          5383623,
          5395876,
          5414483,
          5444438,
          5472813,
          5499497,
          5523861,
          5537027,
          5547214,
          5555463,
          5570044,
          5593357,
          5617199,
          5637399,
          5655142,
          5665644,
          5679056,
          5725477,
          5751721,
          5785622,
          5824337,
          5850614,
          5864519,
          5880260,
          5915748,
          5950278,
          5986259,
          6025117,
          6055338,
          6073263,
          6091419,
          6125948,
          6170571,
          6211453,
          6244960,
          6296444,
          6317452,
          6341143,
          6393127,
          6441599,
          6491732,
          6539401,
          6579682,
          6606112,
          6633131,
          6680926,
          6735507,
          6789053,
          6841598,
          6883919,
          6905948,
          6933321,
          6981348,
          7047468,
          7116157,
          7169003,
          7217242,
          7241724,
          7269364,
          7326025,
          7371692,
          7429901,
          7451081,
          7468614,
          7486226,
          7513661,
          7570028,
          7625621,
          7680082
         ],
         "yaxis": "y"
        }
       ],
       "layout": {
        "legend": {
         "tracegroupgap": 0
        },
        "template": {
         "data": {
          "bar": [
           {
            "error_x": {
             "color": "#2a3f5f"
            },
            "error_y": {
             "color": "#2a3f5f"
            },
            "marker": {
             "line": {
              "color": "#E5ECF6",
              "width": 0.5
             },
             "pattern": {
              "fillmode": "overlay",
              "size": 10,
              "solidity": 0.2
             }
            },
            "type": "bar"
           }
          ],
          "barpolar": [
           {
            "marker": {
             "line": {
              "color": "#E5ECF6",
              "width": 0.5
             },
             "pattern": {
              "fillmode": "overlay",
              "size": 10,
              "solidity": 0.2
             }
            },
            "type": "barpolar"
           }
          ],
          "carpet": [
           {
            "aaxis": {
             "endlinecolor": "#2a3f5f",
             "gridcolor": "white",
             "linecolor": "white",
             "minorgridcolor": "white",
             "startlinecolor": "#2a3f5f"
            },
            "baxis": {
             "endlinecolor": "#2a3f5f",
             "gridcolor": "white",
             "linecolor": "white",
             "minorgridcolor": "white",
             "startlinecolor": "#2a3f5f"
            },
            "type": "carpet"
           }
          ],
          "choropleth": [
           {
            "colorbar": {
             "outlinewidth": 0,
             "ticks": ""
            },
            "type": "choropleth"
           }
          ],
          "contour": [
           {
            "colorbar": {
             "outlinewidth": 0,
             "ticks": ""
            },
            "colorscale": [
             [
              0,
              "#0d0887"
             ],
             [
              0.1111111111111111,
              "#46039f"
             ],
             [
              0.2222222222222222,
              "#7201a8"
             ],
             [
              0.3333333333333333,
              "#9c179e"
             ],
             [
              0.4444444444444444,
              "#bd3786"
             ],
             [
              0.5555555555555556,
              "#d8576b"
             ],
             [
              0.6666666666666666,
              "#ed7953"
             ],
             [
              0.7777777777777778,
              "#fb9f3a"
             ],
             [
              0.8888888888888888,
              "#fdca26"
             ],
             [
              1,
              "#f0f921"
             ]
            ],
            "type": "contour"
           }
          ],
          "contourcarpet": [
           {
            "colorbar": {
             "outlinewidth": 0,
             "ticks": ""
            },
            "type": "contourcarpet"
           }
          ],
          "heatmap": [
           {
            "colorbar": {
             "outlinewidth": 0,
             "ticks": ""
            },
            "colorscale": [
             [
              0,
              "#0d0887"
             ],
             [
              0.1111111111111111,
              "#46039f"
             ],
             [
              0.2222222222222222,
              "#7201a8"
             ],
             [
              0.3333333333333333,
              "#9c179e"
             ],
             [
              0.4444444444444444,
              "#bd3786"
             ],
             [
              0.5555555555555556,
              "#d8576b"
             ],
             [
              0.6666666666666666,
              "#ed7953"
             ],
             [
              0.7777777777777778,
              "#fb9f3a"
             ],
             [
              0.8888888888888888,
              "#fdca26"
             ],
             [
              1,
              "#f0f921"
             ]
            ],
            "type": "heatmap"
           }
          ],
          "heatmapgl": [
           {
            "colorbar": {
             "outlinewidth": 0,
             "ticks": ""
            },
            "colorscale": [
             [
              0,
              "#0d0887"
             ],
             [
              0.1111111111111111,
              "#46039f"
             ],
             [
              0.2222222222222222,
              "#7201a8"
             ],
             [
              0.3333333333333333,
              "#9c179e"
             ],
             [
              0.4444444444444444,
              "#bd3786"
             ],
             [
              0.5555555555555556,
              "#d8576b"
             ],
             [
              0.6666666666666666,
              "#ed7953"
             ],
             [
              0.7777777777777778,
              "#fb9f3a"
             ],
             [
              0.8888888888888888,
              "#fdca26"
             ],
             [
              1,
              "#f0f921"
             ]
            ],
            "type": "heatmapgl"
           }
          ],
          "histogram": [
           {
            "marker": {
             "pattern": {
              "fillmode": "overlay",
              "size": 10,
              "solidity": 0.2
             }
            },
            "type": "histogram"
           }
          ],
          "histogram2d": [
           {
            "colorbar": {
             "outlinewidth": 0,
             "ticks": ""
            },
            "colorscale": [
             [
              0,
              "#0d0887"
             ],
             [
              0.1111111111111111,
              "#46039f"
             ],
             [
              0.2222222222222222,
              "#7201a8"
             ],
             [
              0.3333333333333333,
              "#9c179e"
             ],
             [
              0.4444444444444444,
              "#bd3786"
             ],
             [
              0.5555555555555556,
              "#d8576b"
             ],
             [
              0.6666666666666666,
              "#ed7953"
             ],
             [
              0.7777777777777778,
              "#fb9f3a"
             ],
             [
              0.8888888888888888,
              "#fdca26"
             ],
             [
              1,
              "#f0f921"
             ]
            ],
            "type": "histogram2d"
           }
          ],
          "histogram2dcontour": [
           {
            "colorbar": {
             "outlinewidth": 0,
             "ticks": ""
            },
            "colorscale": [
             [
              0,
              "#0d0887"
             ],
             [
              0.1111111111111111,
              "#46039f"
             ],
             [
              0.2222222222222222,
              "#7201a8"
             ],
             [
              0.3333333333333333,
              "#9c179e"
             ],
             [
              0.4444444444444444,
              "#bd3786"
             ],
             [
              0.5555555555555556,
              "#d8576b"
             ],
             [
              0.6666666666666666,
              "#ed7953"
             ],
             [
              0.7777777777777778,
              "#fb9f3a"
             ],
             [
              0.8888888888888888,
              "#fdca26"
             ],
             [
              1,
              "#f0f921"
             ]
            ],
            "type": "histogram2dcontour"
           }
          ],
          "mesh3d": [
           {
            "colorbar": {
             "outlinewidth": 0,
             "ticks": ""
            },
            "type": "mesh3d"
           }
          ],
          "parcoords": [
           {
            "line": {
             "colorbar": {
              "outlinewidth": 0,
              "ticks": ""
             }
            },
            "type": "parcoords"
           }
          ],
          "pie": [
           {
            "automargin": true,
            "type": "pie"
           }
          ],
          "scatter": [
           {
            "fillpattern": {
             "fillmode": "overlay",
             "size": 10,
             "solidity": 0.2
            },
            "type": "scatter"
           }
          ],
          "scatter3d": [
           {
            "line": {
             "colorbar": {
              "outlinewidth": 0,
              "ticks": ""
             }
            },
            "marker": {
             "colorbar": {
              "outlinewidth": 0,
              "ticks": ""
             }
            },
            "type": "scatter3d"
           }
          ],
          "scattercarpet": [
           {
            "marker": {
             "colorbar": {
              "outlinewidth": 0,
              "ticks": ""
             }
            },
            "type": "scattercarpet"
           }
          ],
          "scattergeo": [
           {
            "marker": {
             "colorbar": {
              "outlinewidth": 0,
              "ticks": ""
             }
            },
            "type": "scattergeo"
           }
          ],
          "scattergl": [
           {
            "marker": {
             "colorbar": {
              "outlinewidth": 0,
              "ticks": ""
             }
            },
            "type": "scattergl"
           }
          ],
          "scattermapbox": [
           {
            "marker": {
             "colorbar": {
              "outlinewidth": 0,
              "ticks": ""
             }
            },
            "type": "scattermapbox"
           }
          ],
          "scatterpolar": [
           {
            "marker": {
             "colorbar": {
              "outlinewidth": 0,
              "ticks": ""
             }
            },
            "type": "scatterpolar"
           }
          ],
          "scatterpolargl": [
           {
            "marker": {
             "colorbar": {
              "outlinewidth": 0,
              "ticks": ""
             }
            },
            "type": "scatterpolargl"
           }
          ],
          "scatterternary": [
           {
            "marker": {
             "colorbar": {
              "outlinewidth": 0,
              "ticks": ""
             }
            },
            "type": "scatterternary"
           }
          ],
          "surface": [
           {
            "colorbar": {
             "outlinewidth": 0,
             "ticks": ""
            },
            "colorscale": [
             [
              0,
              "#0d0887"
             ],
             [
              0.1111111111111111,
              "#46039f"
             ],
             [
              0.2222222222222222,
              "#7201a8"
             ],
             [
              0.3333333333333333,
              "#9c179e"
             ],
             [
              0.4444444444444444,
              "#bd3786"
             ],
             [
              0.5555555555555556,
              "#d8576b"
             ],
             [
              0.6666666666666666,
              "#ed7953"
             ],
             [
              0.7777777777777778,
              "#fb9f3a"
             ],
             [
              0.8888888888888888,
              "#fdca26"
             ],
             [
              1,
              "#f0f921"
             ]
            ],
            "type": "surface"
           }
          ],
          "table": [
           {
            "cells": {
             "fill": {
              "color": "#EBF0F8"
             },
             "line": {
              "color": "white"
             }
            },
            "header": {
             "fill": {
              "color": "#C8D4E3"
             },
             "line": {
              "color": "white"
             }
            },
            "type": "table"
           }
          ]
         },
         "layout": {
          "annotationdefaults": {
           "arrowcolor": "#2a3f5f",
           "arrowhead": 0,
           "arrowwidth": 1
          },
          "autotypenumbers": "strict",
          "coloraxis": {
           "colorbar": {
            "outlinewidth": 0,
            "ticks": ""
           }
          },
          "colorscale": {
           "diverging": [
            [
             0,
             "#8e0152"
            ],
            [
             0.1,
             "#c51b7d"
            ],
            [
             0.2,
             "#de77ae"
            ],
            [
             0.3,
             "#f1b6da"
            ],
            [
             0.4,
             "#fde0ef"
            ],
            [
             0.5,
             "#f7f7f7"
            ],
            [
             0.6,
             "#e6f5d0"
            ],
            [
             0.7,
             "#b8e186"
            ],
            [
             0.8,
             "#7fbc41"
            ],
            [
             0.9,
             "#4d9221"
            ],
            [
             1,
             "#276419"
            ]
           ],
           "sequential": [
            [
             0,
             "#0d0887"
            ],
            [
             0.1111111111111111,
             "#46039f"
            ],
            [
             0.2222222222222222,
             "#7201a8"
            ],
            [
             0.3333333333333333,
             "#9c179e"
            ],
            [
             0.4444444444444444,
             "#bd3786"
            ],
            [
             0.5555555555555556,
             "#d8576b"
            ],
            [
             0.6666666666666666,
             "#ed7953"
            ],
            [
             0.7777777777777778,
             "#fb9f3a"
            ],
            [
             0.8888888888888888,
             "#fdca26"
            ],
            [
             1,
             "#f0f921"
            ]
           ],
           "sequentialminus": [
            [
             0,
             "#0d0887"
            ],
            [
             0.1111111111111111,
             "#46039f"
            ],
            [
             0.2222222222222222,
             "#7201a8"
            ],
            [
             0.3333333333333333,
             "#9c179e"
            ],
            [
             0.4444444444444444,
             "#bd3786"
            ],
            [
             0.5555555555555556,
             "#d8576b"
            ],
            [
             0.6666666666666666,
             "#ed7953"
            ],
            [
             0.7777777777777778,
             "#fb9f3a"
            ],
            [
             0.8888888888888888,
             "#fdca26"
            ],
            [
             1,
             "#f0f921"
            ]
           ]
          },
          "colorway": [
           "#636efa",
           "#EF553B",
           "#00cc96",
           "#ab63fa",
           "#FFA15A",
           "#19d3f3",
           "#FF6692",
           "#B6E880",
           "#FF97FF",
           "#FECB52"
          ],
          "font": {
           "color": "#2a3f5f"
          },
          "geo": {
           "bgcolor": "white",
           "lakecolor": "white",
           "landcolor": "#E5ECF6",
           "showlakes": true,
           "showland": true,
           "subunitcolor": "white"
          },
          "hoverlabel": {
           "align": "left"
          },
          "hovermode": "closest",
          "mapbox": {
           "style": "light"
          },
          "paper_bgcolor": "white",
          "plot_bgcolor": "#E5ECF6",
          "polar": {
           "angularaxis": {
            "gridcolor": "white",
            "linecolor": "white",
            "ticks": ""
           },
           "bgcolor": "#E5ECF6",
           "radialaxis": {
            "gridcolor": "white",
            "linecolor": "white",
            "ticks": ""
           }
          },
          "scene": {
           "xaxis": {
            "backgroundcolor": "#E5ECF6",
            "gridcolor": "white",
            "gridwidth": 2,
            "linecolor": "white",
            "showbackground": true,
            "ticks": "",
            "zerolinecolor": "white"
           },
           "yaxis": {
            "backgroundcolor": "#E5ECF6",
            "gridcolor": "white",
            "gridwidth": 2,
            "linecolor": "white",
            "showbackground": true,
            "ticks": "",
            "zerolinecolor": "white"
           },
           "zaxis": {
            "backgroundcolor": "#E5ECF6",
            "gridcolor": "white",
            "gridwidth": 2,
            "linecolor": "white",
            "showbackground": true,
            "ticks": "",
            "zerolinecolor": "white"
           }
          },
          "shapedefaults": {
           "line": {
            "color": "#2a3f5f"
           }
          },
          "ternary": {
           "aaxis": {
            "gridcolor": "white",
            "linecolor": "white",
            "ticks": ""
           },
           "baxis": {
            "gridcolor": "white",
            "linecolor": "white",
            "ticks": ""
           },
           "bgcolor": "#E5ECF6",
           "caxis": {
            "gridcolor": "white",
            "linecolor": "white",
            "ticks": ""
           }
          },
          "title": {
           "x": 0.05
          },
          "xaxis": {
           "automargin": true,
           "gridcolor": "white",
           "linecolor": "white",
           "ticks": "",
           "title": {
            "standoff": 15
           },
           "zerolinecolor": "white",
           "zerolinewidth": 2
          },
          "yaxis": {
           "automargin": true,
           "gridcolor": "white",
           "linecolor": "white",
           "ticks": "",
           "title": {
            "standoff": 15
           },
           "zerolinecolor": "white",
           "zerolinewidth": 2
          }
         }
        },
        "title": {
         "text": "Casos confirmados de COVID-19 no Brasil em 2020"
        },
        "xaxis": {
         "anchor": "y",
         "domain": [
          0,
          1
         ],
         "title": {
          "text": "date"
         }
        },
        "yaxis": {
         "anchor": "x",
         "domain": [
          0,
          1
         ],
         "title": {
          "text": "totalCases"
         }
        }
       }
      }
     },
     "metadata": {},
     "output_type": "display_data"
    }
   ],
   "source": [
    "px.line(brazil_2020, 'date', 'totalCases', title='Casos confirmados de COVID-19 no Brasil em 2020')"
   ]
  },
  {
   "cell_type": "markdown",
   "metadata": {},
   "source": [
    "# Novos casos por dia"
   ]
  },
  {
   "cell_type": "code",
   "execution_count": null,
   "metadata": {},
   "outputs": [],
   "source": []
  }
 ],
 "metadata": {
  "kernelspec": {
   "display_name": "Python 3.10.9 ('.venv': poetry)",
   "language": "python",
   "name": "python3"
  },
  "language_info": {
   "codemirror_mode": {
    "name": "ipython",
    "version": 3
   },
   "file_extension": ".py",
   "mimetype": "text/x-python",
   "name": "python",
   "nbconvert_exporter": "python",
   "pygments_lexer": "ipython3",
   "version": "3.10.9"
  },
  "orig_nbformat": 4,
  "vscode": {
   "interpreter": {
    "hash": "306ced580c131a3e1f569bccf29a97e4c92a208355db24a3e463268adb8648fe"
   }
  }
 },
 "nbformat": 4,
 "nbformat_minor": 2
}
